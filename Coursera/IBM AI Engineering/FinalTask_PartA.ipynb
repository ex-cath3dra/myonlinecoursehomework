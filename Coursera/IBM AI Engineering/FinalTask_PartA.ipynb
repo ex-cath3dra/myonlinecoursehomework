{
 "cells": [
  {
   "cell_type": "markdown",
   "metadata": {
    "button": false,
    "new_sheet": false,
    "run_control": {
     "read_only": false
    }
   },
   "source": [
    "<h1 align=left><font size = 5>Final Assignment - Part A</font></h1>"
   ]
  },
  {
   "cell_type": "markdown",
   "metadata": {
    "button": false,
    "new_sheet": false,
    "run_control": {
     "read_only": false
    }
   },
   "source": [
    "## Import the relevant libraries for this code"
   ]
  },
  {
   "cell_type": "markdown",
   "metadata": {},
   "source": [
    "This section is used to bring in all the relevant libraries and functions needed for this assignment."
   ]
  },
  {
   "cell_type": "code",
   "execution_count": 1,
   "metadata": {},
   "outputs": [],
   "source": [
    "import pandas as pd\n",
    "import numpy as np"
   ]
  },
  {
   "cell_type": "code",
   "execution_count": 2,
   "metadata": {},
   "outputs": [
    {
     "name": "stderr",
     "output_type": "stream",
     "text": [
      "Using TensorFlow backend.\n",
      "/home/jupyterlab/conda/envs/python/lib/python3.6/site-packages/tensorflow/python/framework/dtypes.py:519: FutureWarning: Passing (type, 1) or '1type' as a synonym of type is deprecated; in a future version of numpy, it will be understood as (type, (1,)) / '(1,)type'.\n",
      "  _np_qint8 = np.dtype([(\"qint8\", np.int8, 1)])\n",
      "/home/jupyterlab/conda/envs/python/lib/python3.6/site-packages/tensorflow/python/framework/dtypes.py:520: FutureWarning: Passing (type, 1) or '1type' as a synonym of type is deprecated; in a future version of numpy, it will be understood as (type, (1,)) / '(1,)type'.\n",
      "  _np_quint8 = np.dtype([(\"quint8\", np.uint8, 1)])\n",
      "/home/jupyterlab/conda/envs/python/lib/python3.6/site-packages/tensorflow/python/framework/dtypes.py:521: FutureWarning: Passing (type, 1) or '1type' as a synonym of type is deprecated; in a future version of numpy, it will be understood as (type, (1,)) / '(1,)type'.\n",
      "  _np_qint16 = np.dtype([(\"qint16\", np.int16, 1)])\n",
      "/home/jupyterlab/conda/envs/python/lib/python3.6/site-packages/tensorflow/python/framework/dtypes.py:522: FutureWarning: Passing (type, 1) or '1type' as a synonym of type is deprecated; in a future version of numpy, it will be understood as (type, (1,)) / '(1,)type'.\n",
      "  _np_quint16 = np.dtype([(\"quint16\", np.uint16, 1)])\n",
      "/home/jupyterlab/conda/envs/python/lib/python3.6/site-packages/tensorflow/python/framework/dtypes.py:523: FutureWarning: Passing (type, 1) or '1type' as a synonym of type is deprecated; in a future version of numpy, it will be understood as (type, (1,)) / '(1,)type'.\n",
      "  _np_qint32 = np.dtype([(\"qint32\", np.int32, 1)])\n",
      "/home/jupyterlab/conda/envs/python/lib/python3.6/site-packages/tensorflow/python/framework/dtypes.py:528: FutureWarning: Passing (type, 1) or '1type' as a synonym of type is deprecated; in a future version of numpy, it will be understood as (type, (1,)) / '(1,)type'.\n",
      "  np_resource = np.dtype([(\"resource\", np.ubyte, 1)])\n"
     ]
    }
   ],
   "source": [
    "import keras\n",
    "from keras.models import Sequential\n",
    "from keras.layers import Dense"
   ]
  },
  {
   "cell_type": "markdown",
   "metadata": {},
   "source": [
    "## Import and break down the data"
   ]
  },
  {
   "cell_type": "markdown",
   "metadata": {},
   "source": [
    "Firstly, the data set needs to be brought in.\n",
    "Note, the path given in the assignment did not work, but the path from one of the exercises did. I manually compared this data, and it is the same."
   ]
  },
  {
   "cell_type": "code",
   "execution_count": 3,
   "metadata": {},
   "outputs": [],
   "source": [
    "#concrete_data = pd.read_csv('https://cocl.us/concrete_data.csv')\n",
    "concrete_data = pd.read_csv('https://s3-api.us-geo.objectstorage.softlayer.net/cf-courses-data/CognitiveClass/DL0101EN/labs/data/concrete_data.csv')\n"
   ]
  },
  {
   "cell_type": "markdown",
   "metadata": {},
   "source": [
    "The data was then broken down into the labels and the targets."
   ]
  },
  {
   "cell_type": "code",
   "execution_count": 4,
   "metadata": {},
   "outputs": [],
   "source": [
    "y=concrete_data['Strength']\n",
    "X=concrete_data.drop(columns='Strength')\n",
    "n_cols = X.shape[1]"
   ]
  },
  {
   "cell_type": "markdown",
   "metadata": {},
   "source": [
    "Using the sklearn library, the data was first split into train/test."
   ]
  },
  {
   "cell_type": "code",
   "execution_count": 5,
   "metadata": {},
   "outputs": [],
   "source": [
    "from sklearn import preprocessing\n",
    "from sklearn.model_selection import train_test_split\n",
    "X_tr, X_t, y_tr, y_t = train_test_split( X, y, test_size=0.3, random_state=4)"
   ]
  },
  {
   "cell_type": "markdown",
   "metadata": {},
   "source": [
    "Note that the data was already split to have 30% of the data only for validation (hence it is not needed as an attribute in the model itself).\n",
    "\n",
    "As an option (although not needed at this stage, here is a good way of standardising the data:"
   ]
  },
  {
   "cell_type": "code",
   "execution_count": 6,
   "metadata": {},
   "outputs": [
    {
     "name": "stdout",
     "output_type": "stream",
     "text": [
      "No standadisation was done in this part\n"
     ]
    }
   ],
   "source": [
    "\n",
    "#X_tr=preprocessing.StandardScaler().fit(X_tr).transform(X_tr.astype(float))\n",
    "print('No standadisation was done in this part')\n"
   ]
  },
  {
   "cell_type": "markdown",
   "metadata": {},
   "source": [
    "## The function for the model"
   ]
  },
  {
   "cell_type": "markdown",
   "metadata": {},
   "source": [
    "Here, the main parameters of the model is created. This will be called back once training is done."
   ]
  },
  {
   "cell_type": "code",
   "execution_count": 7,
   "metadata": {},
   "outputs": [],
   "source": [
    "def baseline_model():\n",
    "    # define model\n",
    "    model = Sequential()\n",
    "    model.add(Dense(10, activation='relu', input_shape=(n_cols,)))\n",
    "    model.add(Dense(1))\n",
    "    \n",
    "    # compile model\n",
    "    model.compile(optimizer='adam', loss='mean_squared_error')\n",
    "    return model\n"
   ]
  },
  {
   "cell_type": "markdown",
   "metadata": {},
   "source": [
    "## Training of the model"
   ]
  },
  {
   "cell_type": "markdown",
   "metadata": {},
   "source": [
    "The model is created. Note, the verbose=2 is useful to see the full line of outputs, but this can be quite crowded.\n",
    "Consider changing to verbose = 0 to make this thing not go for ages."
   ]
  },
  {
   "cell_type": "code",
   "execution_count": 8,
   "metadata": {},
   "outputs": [
    {
     "name": "stdout",
     "output_type": "stream",
     "text": [
      "Epoch 1/50\n",
      " - 1s - loss: 969722.5470\n",
      "Epoch 2/50\n",
      " - 0s - loss: 647656.4732\n",
      "Epoch 3/50\n",
      " - 0s - loss: 408803.6862\n",
      "Epoch 4/50\n",
      " - 0s - loss: 239477.7180\n",
      "Epoch 5/50\n",
      " - 0s - loss: 126380.1319\n",
      "Epoch 6/50\n",
      " - 0s - loss: 59506.5255\n",
      "Epoch 7/50\n",
      " - 0s - loss: 25523.1735\n",
      "Epoch 8/50\n",
      " - 0s - loss: 11532.5344\n",
      "Epoch 9/50\n",
      " - 0s - loss: 6986.3528\n",
      "Epoch 10/50\n",
      " - 0s - loss: 5806.6814\n",
      "Epoch 11/50\n",
      " - 0s - loss: 5392.8077\n",
      "Epoch 12/50\n",
      " - 0s - loss: 5170.5784\n",
      "Epoch 13/50\n",
      " - 0s - loss: 4970.6724\n",
      "Epoch 14/50\n",
      " - 0s - loss: 4780.6214\n",
      "Epoch 15/50\n",
      " - 0s - loss: 4584.4699\n",
      "Epoch 16/50\n",
      " - 0s - loss: 4397.5113\n",
      "Epoch 17/50\n",
      " - 0s - loss: 4219.8926\n",
      "Epoch 18/50\n",
      " - 0s - loss: 4042.9104\n",
      "Epoch 19/50\n",
      " - 0s - loss: 3876.4470\n",
      "Epoch 20/50\n",
      " - 0s - loss: 3711.8029\n",
      "Epoch 21/50\n",
      " - 0s - loss: 3556.1724\n",
      "Epoch 22/50\n",
      " - 0s - loss: 3404.1258\n",
      "Epoch 23/50\n",
      " - 0s - loss: 3260.2974\n",
      "Epoch 24/50\n",
      " - 0s - loss: 3119.4238\n",
      "Epoch 25/50\n",
      " - 0s - loss: 2990.5368\n",
      "Epoch 26/50\n",
      " - 1s - loss: 2864.2724\n",
      "Epoch 27/50\n",
      " - 0s - loss: 2744.5993\n",
      "Epoch 28/50\n",
      " - 0s - loss: 2624.9594\n",
      "Epoch 29/50\n",
      " - 0s - loss: 2517.4327\n",
      "Epoch 30/50\n",
      " - 0s - loss: 2413.7447\n",
      "Epoch 31/50\n",
      " - 0s - loss: 2313.2920\n",
      "Epoch 32/50\n",
      " - 0s - loss: 2219.6245\n",
      "Epoch 33/50\n",
      " - 0s - loss: 2131.1666\n",
      "Epoch 34/50\n",
      " - 0s - loss: 2046.1738\n",
      "Epoch 35/50\n",
      " - 0s - loss: 1965.8124\n",
      "Epoch 36/50\n",
      " - 0s - loss: 1889.7090\n",
      "Epoch 37/50\n",
      " - 0s - loss: 1815.5530\n",
      "Epoch 38/50\n",
      " - 0s - loss: 1747.3820\n",
      "Epoch 39/50\n",
      " - 0s - loss: 1679.2387\n",
      "Epoch 40/50\n",
      " - 0s - loss: 1618.7406\n",
      "Epoch 41/50\n",
      " - 0s - loss: 1560.9778\n",
      "Epoch 42/50\n",
      " - 0s - loss: 1503.6743\n",
      "Epoch 43/50\n",
      " - 0s - loss: 1450.4280\n",
      "Epoch 44/50\n",
      " - 0s - loss: 1403.6086\n",
      "Epoch 45/50\n",
      " - 0s - loss: 1357.6782\n",
      "Epoch 46/50\n",
      " - 0s - loss: 1304.9419\n",
      "Epoch 47/50\n",
      " - 0s - loss: 1264.4893\n",
      "Epoch 48/50\n",
      " - 0s - loss: 1224.5398\n",
      "Epoch 49/50\n",
      " - 0s - loss: 1183.7252\n",
      "Epoch 50/50\n",
      " - 0s - loss: 1147.0966\n"
     ]
    }
   ],
   "source": [
    "model = baseline_model()\n",
    "A=model.fit(X_tr,y_tr,epochs=50,verbose=2)"
   ]
  },
  {
   "cell_type": "markdown",
   "metadata": {},
   "source": [
    "Once the model has been fit, it can be analised through its history:"
   ]
  },
  {
   "cell_type": "code",
   "execution_count": 9,
   "metadata": {},
   "outputs": [],
   "source": [
    "mean_A=np.mean(A.history['loss'])\n",
    "stdev_A=np.std(A.history['loss'])"
   ]
  },
  {
   "cell_type": "markdown",
   "metadata": {},
   "source": [
    "\n",
    "\n",
    "\n",
    "\n",
    "\n",
    "\n",
    "\n",
    "\n",
    "\n",
    "\n",
    "\n",
    "For a better understanding of what the history of the training did, here is a plot:"
   ]
  },
  {
   "cell_type": "code",
   "execution_count": 12,
   "metadata": {},
   "outputs": [
    {
     "data": {
      "text/plain": [
       "[<matplotlib.lines.Line2D at 0x7f72517a0ef0>]"
      ]
     },
     "execution_count": 12,
     "metadata": {},
     "output_type": "execute_result"
    },
    {
     "data": {
      "image/png": "[encoded data removed]",
      "text/plain": [
       "<Figure size 432x288 with 1 Axes>"
      ]
     },
     "metadata": {
      "needs_background": "light"
     },
     "output_type": "display_data"
    }
   ],
   "source": [
    "import matplotlib.pyplot as plt\n",
    "%matplotlib inline\n",
    "plt.plot(range(1,51),A.history['loss'],'r')"
   ]
  },
  {
   "cell_type": "markdown",
   "metadata": {},
   "source": [
    "## Conclusion"
   ]
  },
  {
   "cell_type": "markdown",
   "metadata": {},
   "source": [
    "It is clear that the number of epochs has had a massive improvement in the overall error. with the final numbers being:"
   ]
  },
  {
   "cell_type": "code",
   "execution_count": null,
   "metadata": {},
   "outputs": [],
   "source": [
    "print(\"The mean of the mean squared errors is: : %.2f\" % mean_A)\n",
    "print(\"The standard deviation of the mean squared errors is: : %.2f\" % stdev_A)"
   ]
  },
  {
   "cell_type": "code",
   "execution_count": null,
   "metadata": {},
   "outputs": [],
   "source": []
  }
 ],
 "metadata": {
  "kernelspec": {
   "display_name": "Python",
   "language": "python",
   "name": "conda-env-python-py"
  },
  "language_info": {
   "codemirror_mode": {
    "name": "ipython",
    "version": 3
   },
   "file_extension": ".py",
   "mimetype": "text/x-python",
   "name": "python",
   "nbconvert_exporter": "python",
   "pygments_lexer": "ipython3",
   "version": "3.6.10"
  }
 },
 "nbformat": 4,
 "nbformat_minor": 4
}
